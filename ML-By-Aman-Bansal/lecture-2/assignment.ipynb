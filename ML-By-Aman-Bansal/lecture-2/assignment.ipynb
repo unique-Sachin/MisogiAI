{
 "cells": [
  {
   "cell_type": "markdown",
   "id": "44d9a641",
   "metadata": {},
   "source": [
    "## Basic data representation codes"
   ]
  },
  {
   "cell_type": "code",
   "execution_count": 66,
   "id": "0b9eb40e",
   "metadata": {},
   "outputs": [
    {
     "name": "stderr",
     "output_type": "stream",
     "text": [
      "/Users/sachinmishra/Documents/MISOGI/ML-By-Aman-Bansal/lecture-2/.venv/lib/python3.13/site-packages/openpyxl/styles/stylesheet.py:237: UserWarning: Workbook contains no default style, apply openpyxl's default\n",
      "  warn(\"Workbook contains no default style, apply openpyxl's default\")\n",
      "/Users/sachinmishra/Documents/MISOGI/ML-By-Aman-Bansal/lecture-2/.venv/lib/python3.13/site-packages/openpyxl/styles/stylesheet.py:237: UserWarning: Workbook contains no default style, apply openpyxl's default\n",
      "  warn(\"Workbook contains no default style, apply openpyxl's default\")\n"
     ]
    }
   ],
   "source": [
    "import pandas as pd\n",
    "\n",
    "# ---- File paths (edit these) ----\n",
    "ATHLETES_XLSX = \"olympics/Athletes.xlsx\"\n",
    "COACHES_XLSX = \"olympics/Coaches.xlsx\"\n",
    "ENTRIES_XLSX = \"olympics/EntriesGender.xlsx\"\n",
    "MEDALS_XLSX = \"olympics/Medals.xlsx\"\n",
    "TEAMS_XLSX = \"olympics/Teams.xlsx\"\n",
    "\n",
    "# ---- Loaders ----\n",
    "athletes = pd.read_excel(ATHLETES_XLSX).rename(columns={\n",
    "    \"NOC\": \"NOC\",\n",
    "    \"Discipline\": \"Discipline\",\n",
    "    \"Name\": \"AthleteName\",\n",
    "})\n",
    "coaches = pd.read_excel(COACHES_XLSX).rename(columns={\n",
    "    \"Name\": \"CoachName\",\n",
    "})\n",
    "entries = pd.read_excel(ENTRIES_XLSX).rename(columns={\n",
    "    \"Female\": \"FemaleCount\",\n",
    "    \"Male\": \"MaleCount\",\n",
    "    \"Total\": \"TotalCount\",\n",
    "})\n",
    "medals = pd.read_excel(MEDALS_XLSX).rename(columns={\n",
    "    \"Team/NOC\": \"TeamNOC\",\n",
    "})\n",
    "teams = pd.read_excel(TEAMS_XLSX).rename(columns={\n",
    "    \"Name\": \"TeamName\",\n",
    "})\n",
    "\n",
    "\n",
    "\n",
    "\n"
   ]
  },
  {
   "cell_type": "markdown",
   "id": "f0364a24",
   "metadata": {},
   "source": [
    "Checking if there is any null values"
   ]
  },
  {
   "cell_type": "code",
   "execution_count": 64,
   "id": "0a435279",
   "metadata": {},
   "outputs": [
    {
     "name": "stdout",
     "output_type": "stream",
     "text": [
      "Athletes: (11085, 3) ['AthleteName', 'NOC', 'Discipline']\n",
      "Coaches: (394, 4) ['CoachName', 'NOC', 'Discipline', 'Event']\n",
      "EntriesGender: (46, 4) ['Discipline', 'FemaleCount', 'MaleCount', 'TotalCount']\n",
      "Medals: (93, 7) ['Rank', 'TeamNOC', 'Gold', 'Silver', 'Bronze', 'Total', 'Rank by Total']\n",
      "Teams: (743, 4) ['TeamName', 'Discipline', 'NOC', 'Event']\n",
      "\n",
      "Missing values per file:\n",
      "- athletes: AthleteName    0\n",
      "NOC            0\n",
      "Discipline     0\n",
      "dtype: int64\n",
      "- coaches: CoachName       0\n",
      "NOC             0\n",
      "Discipline      0\n",
      "Event         145\n",
      "dtype: int64\n",
      "- entries: Discipline     0\n",
      "FemaleCount    0\n",
      "MaleCount      0\n",
      "TotalCount     0\n",
      "dtype: int64\n",
      "- medals: Rank             0\n",
      "TeamNOC          0\n",
      "Gold             0\n",
      "Silver           0\n",
      "Bronze           0\n",
      "Total            0\n",
      "Rank by Total    0\n",
      "dtype: int64\n",
      "- teams: TeamName      0\n",
      "Discipline    0\n",
      "NOC           0\n",
      "Event         0\n",
      "dtype: int64\n"
     ]
    }
   ],
   "source": [
    "\n",
    "print(\"Athletes:\", athletes.shape, athletes.columns.tolist())\n",
    "print(\"Coaches:\", coaches.shape, coaches.columns.tolist())\n",
    "print(\"EntriesGender:\", entries.shape, entries.columns.tolist())\n",
    "print(\"Medals:\", medals.shape, medals.columns.tolist())\n",
    "print(\"Teams:\", teams.shape, teams.columns.tolist())\n",
    "\n",
    "# Missing values overview\n",
    "print(\"\\nMissing values per file:\")\n",
    "for name, df in [(\"athletes\", athletes), (\"coaches\", coaches), (\"entries\", entries), (\"medals\", medals), (\"teams\", teams)]:\n",
    "    print(f\"- {name}:\", df.isnull().sum())\n",
    "    \n",
    "    "
   ]
  },
  {
   "cell_type": "markdown",
   "id": "cfb628ae",
   "metadata": {},
   "source": [
    "## Q1. Medal distribution by country\n",
    "### Basically we will try to get the countries with different types of medal\n"
   ]
  },
  {
   "cell_type": "code",
   "execution_count": 67,
   "id": "9ab27aa1",
   "metadata": {},
   "outputs": [
    {
     "ename": "ModuleNotFoundError",
     "evalue": "No module named 'ace_tools'",
     "output_type": "error",
     "traceback": [
      "\u001b[31m---------------------------------------------------------------------------\u001b[39m",
      "\u001b[31mModuleNotFoundError\u001b[39m                       Traceback (most recent call last)",
      "\u001b[36mCell\u001b[39m\u001b[36m \u001b[39m\u001b[32mIn[67]\u001b[39m\u001b[32m, line 1\u001b[39m\n\u001b[32m----> \u001b[39m\u001b[32m1\u001b[39m \u001b[38;5;28;01mimport\u001b[39;00m\u001b[38;5;250m \u001b[39m\u001b[34;01mace_tools\u001b[39;00m\u001b[38;5;250m \u001b[39m\u001b[38;5;28;01mas\u001b[39;00m\u001b[38;5;250m \u001b[39m\u001b[34;01mtools\u001b[39;00m\n\u001b[32m      3\u001b[39m \u001b[38;5;66;03m# Load medals file (adjust path if needed)\u001b[39;00m\n\u001b[32m      4\u001b[39m medals = pd.read_excel(\u001b[33m\"\u001b[39m\u001b[33mMedals.xlsx\u001b[39m\u001b[33m\"\u001b[39m)\n",
      "\u001b[31mModuleNotFoundError\u001b[39m: No module named 'ace_tools'"
     ]
    }
   ],
   "source": [
    "import ace_tools as tools\n",
    "\n",
    "# Load medals file (adjust path if needed)\n",
    "medals = pd.read_excel(\"Medals.xlsx\")\n",
    "\n",
    "# Rename column for clarity\n",
    "medals = medals.rename(columns={\"Team/NOC\": \"Country\"})\n",
    "\n",
    "# Medal distribution by country (Gold, Silver, Bronze, Total)\n",
    "medal_dist = medals[[\"Country\", \"Gold\", \"Silver\", \"Bronze\", \"Total\"]].sort_values(\n",
    "    by=\"Total\", ascending=False\n",
    ")\n",
    "\n",
    "# Display result\n",
    "tools.display_dataframe_to_user(\"Medal Distribution by Country\", medal_dist)\n"
   ]
  },
  {
   "cell_type": "code",
   "execution_count": null,
   "id": "f500634a",
   "metadata": {},
   "outputs": [],
   "source": []
  }
 ],
 "metadata": {
  "kernelspec": {
   "display_name": "lecture-2",
   "language": "python",
   "name": "python3"
  },
  "language_info": {
   "codemirror_mode": {
    "name": "ipython",
    "version": 3
   },
   "file_extension": ".py",
   "mimetype": "text/x-python",
   "name": "python",
   "nbconvert_exporter": "python",
   "pygments_lexer": "ipython3",
   "version": "3.13.5"
  }
 },
 "nbformat": 4,
 "nbformat_minor": 5
}
